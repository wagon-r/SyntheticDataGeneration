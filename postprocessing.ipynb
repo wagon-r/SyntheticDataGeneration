{
 "cells": [
  {
   "cell_type": "markdown",
   "metadata": {},
   "source": [
    "Package manager:\n",
    "Conda\n",
    "\n",
    "Environment: Python 3.10\n",
    "\n",
    "Packages:\n",
    "Pyarrow, Ydata-synthetic, jupyter, pandas"
   ]
  },
  {
   "cell_type": "code",
   "execution_count": null,
   "metadata": {},
   "outputs": [],
   "source": [
    "import pandas as pd"
   ]
  },
  {
   "cell_type": "markdown",
   "metadata": {},
   "source": [
    "Reading original data"
   ]
  },
  {
   "cell_type": "code",
   "execution_count": null,
   "metadata": {},
   "outputs": [],
   "source": [
    "original_data = pd.read_parquet('/home/waqas/Thesis/SyntheticDataGeneration/data/test_107_reduced.parquet')"
   ]
  },
  {
   "cell_type": "markdown",
   "metadata": {},
   "source": [
    "Defining relevant column types"
   ]
  },
  {
   "cell_type": "code",
   "execution_count": null,
   "metadata": {},
   "outputs": [],
   "source": [
    "failure_columns = [\n",
    "\t'cd_counter_rollers_installation',\n",
    "\t'ld_counter_rollers_installation',\n",
    "\t'closing_device_failure',\n",
    "\t'misalignment_cd_vs_ld',\n",
    "\t'misalignment_cd_vs_ld_sill_gap',\n",
    "\t'belt_tension',\n",
    "\t'pulley_is_touching_belt',\n",
    "\t'zero_position',\n",
    "]\n",
    "\n",
    "environment_columns = [\n",
    "\t'cmcouplerfriction',\n",
    "\t'cmdoorfriction',\n",
    "\t'cmelectronicage',\n",
    "\t'cmvibration',\n",
    "]\n",
    "\n",
    "static_state_columns = [\n",
    "\t'doorcyclecounter',\n",
    "]\n",
    "\n",
    "time_state_columns = [\n",
    "\t'doorforce',\n",
    "\t'doorspeed',\n",
    "\t'doorposition',\n",
    "\t# 'time',\n",
    "]"
   ]
  },
  {
   "cell_type": "markdown",
   "metadata": {},
   "source": [
    "Organizing the data based on failure types"
   ]
  },
  {
   "cell_type": "code",
   "execution_count": null,
   "metadata": {},
   "outputs": [],
   "source": [
    "failure_groups = original_data.groupby(failure_columns)"
   ]
  },
  {
   "cell_type": "code",
   "execution_count": null,
   "metadata": {},
   "outputs": [],
   "source": [
    "failure_groups_meta = pd.DataFrame(\n",
    "\t[group_values for group_values, _ in failure_groups],\n",
    "\tcolumns = failure_columns,\n",
    ")\n",
    "failure_groups_meta.to_parquet('data/preprocessed/group_meta.parquet')\n",
    "failure_groups_meta"
   ]
  },
  {
   "cell_type": "markdown",
   "metadata": {},
   "source": [
    "Saving the data in separate files based on failure types"
   ]
  },
  {
   "cell_type": "code",
   "execution_count": null,
   "metadata": {},
   "outputs": [],
   "source": [
    "def save_groups():\n",
    "\tref_values = list(failure_groups_meta.itertuples(index=False, name=None))\n",
    "\n",
    "\tfor (group_index, (values, group)) in enumerate(failure_groups):\n",
    "\t\tassert(ref_values[group_index] == values)\n",
    "\t\tg = group[environment_columns + static_state_columns + time_state_columns]\n",
    "\t\tg_exploded = g.explode(time_state_columns)\n",
    "\n",
    "\t\t# testing the accuracy by comparing the expected results to the actual result\n",
    "\t\texpected_num_rows = sum([len(group.iloc[j]['doorforce']) for j in range(group.shape[0])])\n",
    "\t\tassert(expected_num_rows == g_exploded.shape[0])\n",
    "\n",
    "\t\tg_exploded.to_parquet(f'data/preprocessed/group_{group_index}.parquet')\n",
    "\n",
    "save_groups()"
   ]
  }
 ],
 "metadata": {
  "kernelspec": {
   "display_name": "Python 3",
   "language": "python",
   "name": "python3"
  },
  "language_info": {
   "codemirror_mode": {
    "name": "ipython",
    "version": 3
   },
   "file_extension": ".py",
   "mimetype": "text/x-python",
   "name": "python",
   "nbconvert_exporter": "python",
   "pygments_lexer": "ipython3",
   "version": "3.10.13"
  }
 },
 "nbformat": 4,
 "nbformat_minor": 2
}
