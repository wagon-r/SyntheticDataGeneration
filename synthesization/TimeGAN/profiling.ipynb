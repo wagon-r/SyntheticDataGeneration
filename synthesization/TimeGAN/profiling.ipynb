{
 "cells": [
  {
   "cell_type": "markdown",
   "metadata": {},
   "source": [
    "This script is used to compare the original data with the synthesized data\n",
    "The original data is stored in data/preprocessed/group_1.parquet\n",
    "The synthesized data is stored in data/synthesized/versuch2/{group_number}.parquet\n",
    "The comparison is stored in comparison_versuch{group_number}.html\n",
    "Source: https://docs.profiling.ydata.ai/latest/features/comparing_datasets/"
   ]
  },
  {
   "cell_type": "code",
   "execution_count": 17,
   "metadata": {},
   "outputs": [],
   "source": [
    "import pandas as pd\n",
    "from ydata_profiling import ProfileReport\n"
   ]
  },
  {
   "cell_type": "code",
   "execution_count": 30,
   "metadata": {},
   "outputs": [],
   "source": [
    "train_df = pd.read_parquet(r'..\\..\\data\\preprocessed\\group_1.parquet')\n",
    "train_report = ProfileReport(train_df, title=\"Train\")\n"
   ]
  },
  {
   "cell_type": "code",
   "execution_count": 34,
   "metadata": {},
   "outputs": [],
   "source": [
    "# List to store individual dataframes\n",
    "data_subgroups = []\n",
    "\n",
    "# Loop through the Parquet files and read them into dataframes\n",
    "for group_index in range(5):\n",
    "    file_path = f\"../../data/synthesized/versuch2/group_1_{group_index}.parquet\"\n",
    "    df = pd.read_parquet(file_path)\n",
    "    data_subgroups.append(df)\n",
    "\n",
    "# Concatenate the dataframes into a single dataframe\n",
    "combined_df = pd.concat(data_subgroups, ignore_index=True)\n",
    "\n",
    "test_report = ProfileReport(combined_df, title=\"Test\")\n"
   ]
  },
  {
   "cell_type": "code",
   "execution_count": 35,
   "metadata": {},
   "outputs": [
    {
     "data": {
      "application/vnd.jupyter.widget-view+json": {
       "model_id": "a47b9faa62a049c7b2026c802e059b59",
       "version_major": 2,
       "version_minor": 0
      },
      "text/plain": [
       "Summarize dataset:   0%|          | 0/5 [00:00<?, ?it/s]"
      ]
     },
     "metadata": {},
     "output_type": "display_data"
    },
    {
     "data": {
      "application/vnd.jupyter.widget-view+json": {
       "model_id": "26c0902cf8c14878ba32068806e9032c",
       "version_major": 2,
       "version_minor": 0
      },
      "text/plain": [
       "Generate report structure:   0%|          | 0/1 [00:00<?, ?it/s]"
      ]
     },
     "metadata": {},
     "output_type": "display_data"
    },
    {
     "data": {
      "application/vnd.jupyter.widget-view+json": {
       "model_id": "2a585171330242a7a9ce83b436d8e7de",
       "version_major": 2,
       "version_minor": 0
      },
      "text/plain": [
       "Render HTML:   0%|          | 0/1 [00:00<?, ?it/s]"
      ]
     },
     "metadata": {},
     "output_type": "display_data"
    },
    {
     "data": {
      "application/vnd.jupyter.widget-view+json": {
       "model_id": "2452fc2a59904529928a0fad280b7316",
       "version_major": 2,
       "version_minor": 0
      },
      "text/plain": [
       "Export report to file:   0%|          | 0/1 [00:00<?, ?it/s]"
      ]
     },
     "metadata": {},
     "output_type": "display_data"
    }
   ],
   "source": [
    "comparison_report = train_report.compare(test_report)\n",
    "comparison_report.to_file(\"comparison_versuch2.html\")"
   ]
  }
 ],
 "metadata": {
  "kernelspec": {
   "display_name": "venv",
   "language": "python",
   "name": "python3"
  },
  "language_info": {
   "codemirror_mode": {
    "name": "ipython",
    "version": 3
   },
   "file_extension": ".py",
   "mimetype": "text/x-python",
   "name": "python",
   "nbconvert_exporter": "python",
   "pygments_lexer": "ipython3",
   "version": "3.10.1"
  }
 },
 "nbformat": 4,
 "nbformat_minor": 2
}
